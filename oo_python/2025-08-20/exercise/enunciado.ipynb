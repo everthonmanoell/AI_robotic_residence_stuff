{
 "cells": [
  {
   "cell_type": "markdown",
   "id": "917b7396",
   "metadata": {},
   "source": [
    "## Contagem de Calorias\n",
    "\n",
    "As renas do Papai Noel normalmente comem a ração comum de rena, mas precisam de muita energia mágica para conseguir entregar presentes no Natal. Para isso, o lanche favorito delas é um tipo especial de fruta estelar que só cresce no meio da selva. Os Elfos o convidaram para participar da expedição anual até o pomar onde essas frutas crescem.\n",
    "A selva é fechada demais para veículos ou acesso aéreo; por isso, a expedição dos Elfos tradicionalmente segue a pé. Quando os barcos se aproximam da terra firme, os Elfos começam a fazer o inventário de seus suprimentos. Um item fundamental é a comida, em especial, o número de calorias que cada Elfo está carregando (essa será a entrada do seu problema).\n",
    "Os Elfos se revezam anotando a quantidade de calorias de cada refeição, lanche, ração, um item por linha. Cada Elfo separa seu inventário do anterior deixando uma linha em branco.Por exemplo, suponha que eles anotem os seguintes valores:\n",
    "\n",
    "1000\n",
    "2000\n",
    "3000 \n",
    "\n",
    "4000 \n",
    "\n",
    "5000\n",
    "6000\n",
    "\n",
    "7000\n",
    "8000\n",
    "9000\n",
    "\n",
    "10000\n",
    "\n",
    "Essa lista representa a comida carregada por cinco Elfos:\n",
    "O primeiro Elfo leva 1000 + 2000 + 3000 = 6000 Calorias.\n",
    "O segundo Elfo leva um item de 4000 Calorias.\n",
    "O terceiro Elfo leva 5000 + 6000 = 11000 Calorias.\n",
    "O quarto Elfo leva 7000 + 8000 + 9000 = 24000 Calorias.\n",
    "O quinto Elfo leva um item de 10000 Calorias.\n",
    "Como eles podem ficar com fome e precisar de lanches extras, é importante saber qual Elfo está carregando mais calorias.\n",
    "No exemplo acima, é o quarto Elfo, com 24000 Calorias. Parte 1: Descubra qual Elfo está carregando mais calorias.\n",
    "Quantas calorias esse Elfo carrega ao todo?\n",
    "\n",
    "## Parte 2\n",
    "\n",
    "Quando você termina esse cálculo, os Elfos percebem que o Elfo com mais calorias pode eventualmente ficar sem lanches. Para evitar esse problema, eles decidem que gostariam de saber a soma das calorias carregadas pelos três Elfos que mais carregam comida. Assim, mesmo que um deles fique sem suprimentos, ainda restam outros dois como reserva.\n",
    "\n",
    "No exemplo anterior, os três maiores são:\n",
    "Quarto Elfo → 24000 Calorias\n",
    "Terceiro Elfo → 11000 Calorias\n",
    "Quinto Elfo → 10000 Calorias\n",
    "O total é 45000 Calorias. Parte 2: Descubra os três Elfos com mais calorias. Quantas calorias eles carregam no total?"
   ]
  }
 ],
 "metadata": {
  "language_info": {
   "name": "python"
  }
 },
 "nbformat": 4,
 "nbformat_minor": 5
}
