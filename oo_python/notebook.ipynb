{
 "cells": [
  {
   "cell_type": "markdown",
   "id": "96e2b1cb",
   "metadata": {},
   "source": []
  },
  {
   "cell_type": "markdown",
   "id": "bc9e06fd",
   "metadata": {},
   "source": [
    "## Herança"
   ]
  },
  {
   "cell_type": "markdown",
   "id": "4d7e4555",
   "metadata": {},
   "source": [
    "#### Uma classe pode herdar caracteristicas de outra casse"
   ]
  },
  {
   "cell_type": "code",
   "execution_count": 2,
   "id": "cf98df7b",
   "metadata": {},
   "outputs": [],
   "source": [
    "class Pessoa:\n",
    "    pass\n",
    "class EStudante(Pessoa):\n",
    "    pass\n",
    "class Professor(Pessoa):\n",
    "    pass\n",
    "\n",
    "\n",
    "ob = Professor()\n",
    "\n",
    "# if __name__ == '__main__':\n"
   ]
  },
  {
   "cell_type": "markdown",
   "id": "8322d0ef",
   "metadata": {},
   "source": [
    "### Objeto"
   ]
  },
  {
   "cell_type": "markdown",
   "id": "a46b77c9",
   "metadata": {},
   "source": [
    "* objeto é uma instância de uma classe\n",
    "  * Uma instância de uma classe em Python é um objeto criado a partir de uma classe. Quando você define uma classe, está criando um molde (ou estrutura) para objetos. Ao criar uma instância, você está gerando um objeto específico baseado nesse molde, que pode armazenar dados e ter comportamentos definidos pela classe.\n"
   ]
  },
  {
   "cell_type": "code",
   "execution_count": 3,
   "id": "2512ebf0",
   "metadata": {},
   "outputs": [
    {
     "data": {
      "text/plain": [
       "True"
      ]
     },
     "execution_count": 3,
     "metadata": {},
     "output_type": "execute_result"
    }
   ],
   "source": [
    "isinstance(ob, Professor) # sintaxe para verificar se o objeto é a instlancia de uma classe específica"
   ]
  },
  {
   "cell_type": "markdown",
   "id": "8f417872",
   "metadata": {},
   "source": [
    "### Encapsulamento"
   ]
  },
  {
   "cell_type": "markdown",
   "id": "1d56665a",
   "metadata": {},
   "source": [
    "```python\n",
    "__segredo()\n",
    "```"
   ]
  }
 ],
 "metadata": {
  "kernelspec": {
   "display_name": ".venv",
   "language": "python",
   "name": "python3"
  },
  "language_info": {
   "codemirror_mode": {
    "name": "ipython",
    "version": 3
   },
   "file_extension": ".py",
   "mimetype": "text/x-python",
   "name": "python",
   "nbconvert_exporter": "python",
   "pygments_lexer": "ipython3",
   "version": "3.10.12"
  }
 },
 "nbformat": 4,
 "nbformat_minor": 5
}
